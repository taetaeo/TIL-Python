{
 "cells": [
  {
   "cell_type": "markdown",
   "metadata": {},
   "source": [
    "### 1) for 문을 한 줄로 작성하기"
   ]
  },
  {
   "cell_type": "code",
   "execution_count": 6,
   "metadata": {},
   "outputs": [],
   "source": [
    "words = [\"솜씨좋은장씨\", \"티스토리\", \"블로그\", \"파이썬\", \"for\", \"프로그래밍\", \"반복\"]\n",
    "\n",
    "new_words_1=[]\n",
    "\n",
    "for word in words:\n",
    "    if len(word) > 3:\n",
    "        new_words_1.append(word)"
   ]
  },
  {
   "cell_type": "code",
   "execution_count": 7,
   "metadata": {},
   "outputs": [
    {
     "data": {
      "text/plain": [
       "['솜씨좋은장씨', '티스토리', '프로그래밍']"
      ]
     },
     "execution_count": 7,
     "metadata": {},
     "output_type": "execute_result"
    }
   ],
   "source": [
    "new_words_1"
   ]
  },
  {
   "cell_type": "code",
   "execution_count": 8,
   "metadata": {},
   "outputs": [],
   "source": [
    "new_words_2 = [word for word in words if len(word)>3]"
   ]
  },
  {
   "cell_type": "code",
   "execution_count": 9,
   "metadata": {},
   "outputs": [
    {
     "data": {
      "text/plain": [
       "['솜씨좋은장씨', '티스토리', '프로그래밍']"
      ]
     },
     "execution_count": 9,
     "metadata": {},
     "output_type": "execute_result"
    }
   ],
   "source": [
    "new_words_2"
   ]
  },
  {
   "cell_type": "code",
   "execution_count": 10,
   "metadata": {},
   "outputs": [
    {
     "data": {
      "text/plain": [
       "True"
      ]
     },
     "execution_count": 10,
     "metadata": {},
     "output_type": "execute_result"
    }
   ],
   "source": [
    "new_words_1 == new_words_2"
   ]
  },
  {
   "cell_type": "markdown",
   "metadata": {},
   "source": [
    "### 2) 이중 for 문을 한 줄로 작성하기\n",
    "\n",
    "ex) 여러 단어들이 담겨있는 2차원 리스트에서 각 리스트 별로 길이가 4 이상인 단어만 남기고 싶은 경우"
   ]
  },
  {
   "cell_type": "code",
   "execution_count": 16,
   "metadata": {},
   "outputs": [],
   "source": [
    "words =[[ \"솜씨좋은장씨\", \"파이썬\", \"프로그래밍\", \"스터디\" ],\n",
    "           [ \"Python\", \"NLP\", \"ML\", \"DL\" ],\n",
    "        [ \"leetCode\", \"BaekJoon\", \"HackerRank\" ], \n",
    "        [ \"멀티캠퍼스\", \"COMPAS\", \"DACON\", \"Kaggle\"],\n",
    "]\n",
    "\n"
   ]
  },
  {
   "cell_type": "code",
   "execution_count": 17,
   "metadata": {},
   "outputs": [
    {
     "data": {
      "text/plain": [
       "[['솜씨좋은장씨', '파이썬', '프로그래밍', '스터디'],\n",
       " ['Python', 'NLP', 'ML', 'DL'],\n",
       " ['leetCode', 'BaekJoon', 'HackerRank'],\n",
       " ['멀티캠퍼스', 'COMPAS', 'DACON', 'Kaggle']]"
      ]
     },
     "execution_count": 17,
     "metadata": {},
     "output_type": "execute_result"
    }
   ],
   "source": [
    "words"
   ]
  },
  {
   "cell_type": "code",
   "execution_count": 18,
   "metadata": {},
   "outputs": [],
   "source": [
    "# 기존 코드의 이중 for문\n",
    "new_words_1 = []\n",
    "\n",
    "for word_list in words:\n",
    "    for word in word_list:\n",
    "        if len(word)>4:\n",
    "            new_words_1.append(word)\n",
    "    "
   ]
  },
  {
   "cell_type": "code",
   "execution_count": 19,
   "metadata": {},
   "outputs": [
    {
     "data": {
      "text/plain": [
       "['솜씨좋은장씨',\n",
       " '프로그래밍',\n",
       " 'Python',\n",
       " 'leetCode',\n",
       " 'BaekJoon',\n",
       " 'HackerRank',\n",
       " '멀티캠퍼스',\n",
       " 'COMPAS',\n",
       " 'DACON',\n",
       " 'Kaggle']"
      ]
     },
     "execution_count": 19,
     "metadata": {},
     "output_type": "execute_result"
    }
   ],
   "source": [
    "new_words_1"
   ]
  },
  {
   "cell_type": "code",
   "execution_count": 20,
   "metadata": {},
   "outputs": [],
   "source": [
    "new_words_2 = [word for word_list in words for word in word_list if len(word)>4]"
   ]
  },
  {
   "cell_type": "code",
   "execution_count": 21,
   "metadata": {},
   "outputs": [
    {
     "data": {
      "text/plain": [
       "['솜씨좋은장씨',\n",
       " '프로그래밍',\n",
       " 'Python',\n",
       " 'leetCode',\n",
       " 'BaekJoon',\n",
       " 'HackerRank',\n",
       " '멀티캠퍼스',\n",
       " 'COMPAS',\n",
       " 'DACON',\n",
       " 'Kaggle']"
      ]
     },
     "execution_count": 21,
     "metadata": {},
     "output_type": "execute_result"
    }
   ],
   "source": [
    "new_words_2"
   ]
  },
  {
   "cell_type": "code",
   "execution_count": 34,
   "metadata": {},
   "outputs": [
    {
     "name": "stdout",
     "output_type": "stream",
     "text": [
      "방탄소년단\n",
      "방\n",
      "탄\n",
      "소\n",
      "년\n",
      "단\n"
     ]
    }
   ],
   "source": [
    "for i in input():\n",
    "    for j in i:\n",
    "        print(j)"
   ]
  },
  {
   "cell_type": "code",
   "execution_count": 33,
   "metadata": {},
   "outputs": [
    {
     "name": "stdout",
     "output_type": "stream",
     "text": [
      "방탄소년단\n"
     ]
    },
    {
     "data": {
      "text/plain": [
       "['방', '탄', '소', '년', '단']"
      ]
     },
     "execution_count": 33,
     "metadata": {},
     "output_type": "execute_result"
    }
   ],
   "source": [
    "name= [j for i in input() for j in i]\n",
    "name"
   ]
  },
  {
   "cell_type": "code",
   "execution_count": null,
   "metadata": {},
   "outputs": [],
   "source": []
  }
 ],
 "metadata": {
  "kernelspec": {
   "display_name": "Python 3",
   "language": "python",
   "name": "python3"
  },
  "language_info": {
   "codemirror_mode": {
    "name": "ipython",
    "version": 3
   },
   "file_extension": ".py",
   "mimetype": "text/x-python",
   "name": "python",
   "nbconvert_exporter": "python",
   "pygments_lexer": "ipython3",
   "version": "3.8.3"
  }
 },
 "nbformat": 4,
 "nbformat_minor": 4
}
